{
 "cells": [
  {
   "cell_type": "markdown",
   "metadata": {},
   "source": [
    "### ANN With Cutomer Churn Prediction- Classification"
   ]
  },
  {
   "cell_type": "code",
   "execution_count": 1,
   "metadata": {
    "id": "LJ1czPWJml_f"
   },
   "outputs": [],
   "source": [
    "# Part 1 - Data Preprocessing\n",
    "\n",
    "# Importing the libraries\n",
    "import numpy as np\n",
    "import matplotlib.pyplot as plt\n",
    "import pandas as pd"
   ]
  },
  {
   "cell_type": "code",
   "execution_count": 2,
   "metadata": {
    "id": "-H0j08pym5HX"
   },
   "outputs": [],
   "source": [
    "# Importing the dataset\n",
    "dataset = pd.read_csv('Churn_Modelling.csv')\n",
    "X = dataset.iloc[:, 3:13]\n",
    "y = dataset.iloc[:, 13]"
   ]
  },
  {
   "cell_type": "code",
   "execution_count": 3,
   "metadata": {},
   "outputs": [
    {
     "data": {
      "text/html": [
       "<div>\n",
       "<style scoped>\n",
       "    .dataframe tbody tr th:only-of-type {\n",
       "        vertical-align: middle;\n",
       "    }\n",
       "\n",
       "    .dataframe tbody tr th {\n",
       "        vertical-align: top;\n",
       "    }\n",
       "\n",
       "    .dataframe thead th {\n",
       "        text-align: right;\n",
       "    }\n",
       "</style>\n",
       "<table border=\"1\" class=\"dataframe\">\n",
       "  <thead>\n",
       "    <tr style=\"text-align: right;\">\n",
       "      <th></th>\n",
       "      <th>RowNumber</th>\n",
       "      <th>CustomerId</th>\n",
       "      <th>Surname</th>\n",
       "      <th>CreditScore</th>\n",
       "      <th>Geography</th>\n",
       "      <th>Gender</th>\n",
       "      <th>Age</th>\n",
       "      <th>Tenure</th>\n",
       "      <th>Balance</th>\n",
       "      <th>NumOfProducts</th>\n",
       "      <th>HasCrCard</th>\n",
       "      <th>IsActiveMember</th>\n",
       "      <th>EstimatedSalary</th>\n",
       "      <th>Exited</th>\n",
       "    </tr>\n",
       "  </thead>\n",
       "  <tbody>\n",
       "    <tr>\n",
       "      <th>0</th>\n",
       "      <td>1</td>\n",
       "      <td>15634602</td>\n",
       "      <td>Hargrave</td>\n",
       "      <td>619</td>\n",
       "      <td>France</td>\n",
       "      <td>Female</td>\n",
       "      <td>42</td>\n",
       "      <td>2</td>\n",
       "      <td>0.00</td>\n",
       "      <td>1</td>\n",
       "      <td>1</td>\n",
       "      <td>1</td>\n",
       "      <td>101348.88</td>\n",
       "      <td>1</td>\n",
       "    </tr>\n",
       "    <tr>\n",
       "      <th>1</th>\n",
       "      <td>2</td>\n",
       "      <td>15647311</td>\n",
       "      <td>Hill</td>\n",
       "      <td>608</td>\n",
       "      <td>Spain</td>\n",
       "      <td>Female</td>\n",
       "      <td>41</td>\n",
       "      <td>1</td>\n",
       "      <td>83807.86</td>\n",
       "      <td>1</td>\n",
       "      <td>0</td>\n",
       "      <td>1</td>\n",
       "      <td>112542.58</td>\n",
       "      <td>0</td>\n",
       "    </tr>\n",
       "    <tr>\n",
       "      <th>2</th>\n",
       "      <td>3</td>\n",
       "      <td>15619304</td>\n",
       "      <td>Onio</td>\n",
       "      <td>502</td>\n",
       "      <td>France</td>\n",
       "      <td>Female</td>\n",
       "      <td>42</td>\n",
       "      <td>8</td>\n",
       "      <td>159660.80</td>\n",
       "      <td>3</td>\n",
       "      <td>1</td>\n",
       "      <td>0</td>\n",
       "      <td>113931.57</td>\n",
       "      <td>1</td>\n",
       "    </tr>\n",
       "    <tr>\n",
       "      <th>3</th>\n",
       "      <td>4</td>\n",
       "      <td>15701354</td>\n",
       "      <td>Boni</td>\n",
       "      <td>699</td>\n",
       "      <td>France</td>\n",
       "      <td>Female</td>\n",
       "      <td>39</td>\n",
       "      <td>1</td>\n",
       "      <td>0.00</td>\n",
       "      <td>2</td>\n",
       "      <td>0</td>\n",
       "      <td>0</td>\n",
       "      <td>93826.63</td>\n",
       "      <td>0</td>\n",
       "    </tr>\n",
       "    <tr>\n",
       "      <th>4</th>\n",
       "      <td>5</td>\n",
       "      <td>15737888</td>\n",
       "      <td>Mitchell</td>\n",
       "      <td>850</td>\n",
       "      <td>Spain</td>\n",
       "      <td>Female</td>\n",
       "      <td>43</td>\n",
       "      <td>2</td>\n",
       "      <td>125510.82</td>\n",
       "      <td>1</td>\n",
       "      <td>1</td>\n",
       "      <td>1</td>\n",
       "      <td>79084.10</td>\n",
       "      <td>0</td>\n",
       "    </tr>\n",
       "  </tbody>\n",
       "</table>\n",
       "</div>"
      ],
      "text/plain": [
       "   RowNumber  CustomerId   Surname  CreditScore Geography  Gender  Age  \\\n",
       "0          1    15634602  Hargrave          619    France  Female   42   \n",
       "1          2    15647311      Hill          608     Spain  Female   41   \n",
       "2          3    15619304      Onio          502    France  Female   42   \n",
       "3          4    15701354      Boni          699    France  Female   39   \n",
       "4          5    15737888  Mitchell          850     Spain  Female   43   \n",
       "\n",
       "   Tenure    Balance  NumOfProducts  HasCrCard  IsActiveMember  \\\n",
       "0       2       0.00              1          1               1   \n",
       "1       1   83807.86              1          0               1   \n",
       "2       8  159660.80              3          1               0   \n",
       "3       1       0.00              2          0               0   \n",
       "4       2  125510.82              1          1               1   \n",
       "\n",
       "   EstimatedSalary  Exited  \n",
       "0        101348.88       1  \n",
       "1        112542.58       0  \n",
       "2        113931.57       1  \n",
       "3         93826.63       0  \n",
       "4         79084.10       0  "
      ]
     },
     "execution_count": 3,
     "metadata": {},
     "output_type": "execute_result"
    }
   ],
   "source": [
    "dataset.head()"
   ]
  },
  {
   "cell_type": "code",
   "execution_count": 4,
   "metadata": {},
   "outputs": [
    {
     "data": {
      "text/plain": [
       "RowNumber          0\n",
       "CustomerId         0\n",
       "Surname            0\n",
       "CreditScore        0\n",
       "Geography          0\n",
       "Gender             0\n",
       "Age                0\n",
       "Tenure             0\n",
       "Balance            0\n",
       "NumOfProducts      0\n",
       "HasCrCard          0\n",
       "IsActiveMember     0\n",
       "EstimatedSalary    0\n",
       "Exited             0\n",
       "dtype: int64"
      ]
     },
     "execution_count": 4,
     "metadata": {},
     "output_type": "execute_result"
    }
   ],
   "source": [
    "dataset.isnull().sum()"
   ]
  },
  {
   "cell_type": "code",
   "execution_count": 5,
   "metadata": {},
   "outputs": [
    {
     "data": {
      "text/html": [
       "<div>\n",
       "<style scoped>\n",
       "    .dataframe tbody tr th:only-of-type {\n",
       "        vertical-align: middle;\n",
       "    }\n",
       "\n",
       "    .dataframe tbody tr th {\n",
       "        vertical-align: top;\n",
       "    }\n",
       "\n",
       "    .dataframe thead th {\n",
       "        text-align: right;\n",
       "    }\n",
       "</style>\n",
       "<table border=\"1\" class=\"dataframe\">\n",
       "  <thead>\n",
       "    <tr style=\"text-align: right;\">\n",
       "      <th></th>\n",
       "      <th>CreditScore</th>\n",
       "      <th>Geography</th>\n",
       "      <th>Gender</th>\n",
       "      <th>Age</th>\n",
       "      <th>Tenure</th>\n",
       "      <th>Balance</th>\n",
       "      <th>NumOfProducts</th>\n",
       "      <th>HasCrCard</th>\n",
       "      <th>IsActiveMember</th>\n",
       "      <th>EstimatedSalary</th>\n",
       "    </tr>\n",
       "  </thead>\n",
       "  <tbody>\n",
       "    <tr>\n",
       "      <th>0</th>\n",
       "      <td>619</td>\n",
       "      <td>France</td>\n",
       "      <td>Female</td>\n",
       "      <td>42</td>\n",
       "      <td>2</td>\n",
       "      <td>0.00</td>\n",
       "      <td>1</td>\n",
       "      <td>1</td>\n",
       "      <td>1</td>\n",
       "      <td>101348.88</td>\n",
       "    </tr>\n",
       "    <tr>\n",
       "      <th>1</th>\n",
       "      <td>608</td>\n",
       "      <td>Spain</td>\n",
       "      <td>Female</td>\n",
       "      <td>41</td>\n",
       "      <td>1</td>\n",
       "      <td>83807.86</td>\n",
       "      <td>1</td>\n",
       "      <td>0</td>\n",
       "      <td>1</td>\n",
       "      <td>112542.58</td>\n",
       "    </tr>\n",
       "    <tr>\n",
       "      <th>2</th>\n",
       "      <td>502</td>\n",
       "      <td>France</td>\n",
       "      <td>Female</td>\n",
       "      <td>42</td>\n",
       "      <td>8</td>\n",
       "      <td>159660.80</td>\n",
       "      <td>3</td>\n",
       "      <td>1</td>\n",
       "      <td>0</td>\n",
       "      <td>113931.57</td>\n",
       "    </tr>\n",
       "    <tr>\n",
       "      <th>3</th>\n",
       "      <td>699</td>\n",
       "      <td>France</td>\n",
       "      <td>Female</td>\n",
       "      <td>39</td>\n",
       "      <td>1</td>\n",
       "      <td>0.00</td>\n",
       "      <td>2</td>\n",
       "      <td>0</td>\n",
       "      <td>0</td>\n",
       "      <td>93826.63</td>\n",
       "    </tr>\n",
       "    <tr>\n",
       "      <th>4</th>\n",
       "      <td>850</td>\n",
       "      <td>Spain</td>\n",
       "      <td>Female</td>\n",
       "      <td>43</td>\n",
       "      <td>2</td>\n",
       "      <td>125510.82</td>\n",
       "      <td>1</td>\n",
       "      <td>1</td>\n",
       "      <td>1</td>\n",
       "      <td>79084.10</td>\n",
       "    </tr>\n",
       "  </tbody>\n",
       "</table>\n",
       "</div>"
      ],
      "text/plain": [
       "   CreditScore Geography  Gender  Age  Tenure    Balance  NumOfProducts  \\\n",
       "0          619    France  Female   42       2       0.00              1   \n",
       "1          608     Spain  Female   41       1   83807.86              1   \n",
       "2          502    France  Female   42       8  159660.80              3   \n",
       "3          699    France  Female   39       1       0.00              2   \n",
       "4          850     Spain  Female   43       2  125510.82              1   \n",
       "\n",
       "   HasCrCard  IsActiveMember  EstimatedSalary  \n",
       "0          1               1        101348.88  \n",
       "1          0               1        112542.58  \n",
       "2          1               0        113931.57  \n",
       "3          0               0         93826.63  \n",
       "4          1               1         79084.10  "
      ]
     },
     "execution_count": 5,
     "metadata": {},
     "output_type": "execute_result"
    }
   ],
   "source": [
    "X.head()"
   ]
  },
  {
   "cell_type": "code",
   "execution_count": 6,
   "metadata": {},
   "outputs": [
    {
     "data": {
      "text/plain": [
       "0    1\n",
       "1    0\n",
       "2    1\n",
       "3    0\n",
       "4    0\n",
       "Name: Exited, dtype: int64"
      ]
     },
     "execution_count": 6,
     "metadata": {},
     "output_type": "execute_result"
    }
   ],
   "source": [
    "y.head()"
   ]
  },
  {
   "cell_type": "code",
   "execution_count": 7,
   "metadata": {
    "id": "N9QNTLkJm8tm"
   },
   "outputs": [],
   "source": [
    "#Create dummy variables\n",
    "geography=pd.get_dummies(X[\"Geography\"],drop_first=True)\n",
    "gender=pd.get_dummies(X['Gender'],drop_first=True)\n"
   ]
  },
  {
   "cell_type": "code",
   "execution_count": 8,
   "metadata": {},
   "outputs": [
    {
     "data": {
      "text/html": [
       "<div>\n",
       "<style scoped>\n",
       "    .dataframe tbody tr th:only-of-type {\n",
       "        vertical-align: middle;\n",
       "    }\n",
       "\n",
       "    .dataframe tbody tr th {\n",
       "        vertical-align: top;\n",
       "    }\n",
       "\n",
       "    .dataframe thead th {\n",
       "        text-align: right;\n",
       "    }\n",
       "</style>\n",
       "<table border=\"1\" class=\"dataframe\">\n",
       "  <thead>\n",
       "    <tr style=\"text-align: right;\">\n",
       "      <th></th>\n",
       "      <th>Germany</th>\n",
       "      <th>Spain</th>\n",
       "    </tr>\n",
       "  </thead>\n",
       "  <tbody>\n",
       "    <tr>\n",
       "      <th>0</th>\n",
       "      <td>0</td>\n",
       "      <td>0</td>\n",
       "    </tr>\n",
       "    <tr>\n",
       "      <th>1</th>\n",
       "      <td>0</td>\n",
       "      <td>1</td>\n",
       "    </tr>\n",
       "    <tr>\n",
       "      <th>2</th>\n",
       "      <td>0</td>\n",
       "      <td>0</td>\n",
       "    </tr>\n",
       "    <tr>\n",
       "      <th>3</th>\n",
       "      <td>0</td>\n",
       "      <td>0</td>\n",
       "    </tr>\n",
       "    <tr>\n",
       "      <th>4</th>\n",
       "      <td>0</td>\n",
       "      <td>1</td>\n",
       "    </tr>\n",
       "    <tr>\n",
       "      <th>...</th>\n",
       "      <td>...</td>\n",
       "      <td>...</td>\n",
       "    </tr>\n",
       "    <tr>\n",
       "      <th>9995</th>\n",
       "      <td>0</td>\n",
       "      <td>0</td>\n",
       "    </tr>\n",
       "    <tr>\n",
       "      <th>9996</th>\n",
       "      <td>0</td>\n",
       "      <td>0</td>\n",
       "    </tr>\n",
       "    <tr>\n",
       "      <th>9997</th>\n",
       "      <td>0</td>\n",
       "      <td>0</td>\n",
       "    </tr>\n",
       "    <tr>\n",
       "      <th>9998</th>\n",
       "      <td>1</td>\n",
       "      <td>0</td>\n",
       "    </tr>\n",
       "    <tr>\n",
       "      <th>9999</th>\n",
       "      <td>0</td>\n",
       "      <td>0</td>\n",
       "    </tr>\n",
       "  </tbody>\n",
       "</table>\n",
       "<p>10000 rows × 2 columns</p>\n",
       "</div>"
      ],
      "text/plain": [
       "      Germany  Spain\n",
       "0           0      0\n",
       "1           0      1\n",
       "2           0      0\n",
       "3           0      0\n",
       "4           0      1\n",
       "...       ...    ...\n",
       "9995        0      0\n",
       "9996        0      0\n",
       "9997        0      0\n",
       "9998        1      0\n",
       "9999        0      0\n",
       "\n",
       "[10000 rows x 2 columns]"
      ]
     },
     "execution_count": 8,
     "metadata": {},
     "output_type": "execute_result"
    }
   ],
   "source": [
    "geography"
   ]
  },
  {
   "cell_type": "code",
   "execution_count": 9,
   "metadata": {
    "id": "rbNc5sLHnAdP"
   },
   "outputs": [],
   "source": [
    "## Concatenate the Data Frames\n",
    "\n",
    "X=pd.concat([X,geography,gender],axis=1)\n",
    "\n",
    "## Drop Unnecessary columns\n",
    "X=X.drop(['Geography','Gender'],axis=1)"
   ]
  },
  {
   "cell_type": "code",
   "execution_count": 10,
   "metadata": {},
   "outputs": [
    {
     "data": {
      "text/plain": [
       "(10000, 11)"
      ]
     },
     "execution_count": 10,
     "metadata": {},
     "output_type": "execute_result"
    }
   ],
   "source": [
    "X.shape"
   ]
  },
  {
   "cell_type": "code",
   "execution_count": 11,
   "metadata": {},
   "outputs": [
    {
     "data": {
      "text/html": [
       "<div>\n",
       "<style scoped>\n",
       "    .dataframe tbody tr th:only-of-type {\n",
       "        vertical-align: middle;\n",
       "    }\n",
       "\n",
       "    .dataframe tbody tr th {\n",
       "        vertical-align: top;\n",
       "    }\n",
       "\n",
       "    .dataframe thead th {\n",
       "        text-align: right;\n",
       "    }\n",
       "</style>\n",
       "<table border=\"1\" class=\"dataframe\">\n",
       "  <thead>\n",
       "    <tr style=\"text-align: right;\">\n",
       "      <th></th>\n",
       "      <th>CreditScore</th>\n",
       "      <th>Age</th>\n",
       "      <th>Tenure</th>\n",
       "      <th>Balance</th>\n",
       "      <th>NumOfProducts</th>\n",
       "      <th>HasCrCard</th>\n",
       "      <th>IsActiveMember</th>\n",
       "      <th>EstimatedSalary</th>\n",
       "      <th>Germany</th>\n",
       "      <th>Spain</th>\n",
       "      <th>Male</th>\n",
       "    </tr>\n",
       "  </thead>\n",
       "  <tbody>\n",
       "    <tr>\n",
       "      <th>0</th>\n",
       "      <td>619</td>\n",
       "      <td>42</td>\n",
       "      <td>2</td>\n",
       "      <td>0.00</td>\n",
       "      <td>1</td>\n",
       "      <td>1</td>\n",
       "      <td>1</td>\n",
       "      <td>101348.88</td>\n",
       "      <td>0</td>\n",
       "      <td>0</td>\n",
       "      <td>0</td>\n",
       "    </tr>\n",
       "    <tr>\n",
       "      <th>1</th>\n",
       "      <td>608</td>\n",
       "      <td>41</td>\n",
       "      <td>1</td>\n",
       "      <td>83807.86</td>\n",
       "      <td>1</td>\n",
       "      <td>0</td>\n",
       "      <td>1</td>\n",
       "      <td>112542.58</td>\n",
       "      <td>0</td>\n",
       "      <td>1</td>\n",
       "      <td>0</td>\n",
       "    </tr>\n",
       "    <tr>\n",
       "      <th>2</th>\n",
       "      <td>502</td>\n",
       "      <td>42</td>\n",
       "      <td>8</td>\n",
       "      <td>159660.80</td>\n",
       "      <td>3</td>\n",
       "      <td>1</td>\n",
       "      <td>0</td>\n",
       "      <td>113931.57</td>\n",
       "      <td>0</td>\n",
       "      <td>0</td>\n",
       "      <td>0</td>\n",
       "    </tr>\n",
       "    <tr>\n",
       "      <th>3</th>\n",
       "      <td>699</td>\n",
       "      <td>39</td>\n",
       "      <td>1</td>\n",
       "      <td>0.00</td>\n",
       "      <td>2</td>\n",
       "      <td>0</td>\n",
       "      <td>0</td>\n",
       "      <td>93826.63</td>\n",
       "      <td>0</td>\n",
       "      <td>0</td>\n",
       "      <td>0</td>\n",
       "    </tr>\n",
       "    <tr>\n",
       "      <th>4</th>\n",
       "      <td>850</td>\n",
       "      <td>43</td>\n",
       "      <td>2</td>\n",
       "      <td>125510.82</td>\n",
       "      <td>1</td>\n",
       "      <td>1</td>\n",
       "      <td>1</td>\n",
       "      <td>79084.10</td>\n",
       "      <td>0</td>\n",
       "      <td>1</td>\n",
       "      <td>0</td>\n",
       "    </tr>\n",
       "  </tbody>\n",
       "</table>\n",
       "</div>"
      ],
      "text/plain": [
       "   CreditScore  Age  Tenure    Balance  NumOfProducts  HasCrCard  \\\n",
       "0          619   42       2       0.00              1          1   \n",
       "1          608   41       1   83807.86              1          0   \n",
       "2          502   42       8  159660.80              3          1   \n",
       "3          699   39       1       0.00              2          0   \n",
       "4          850   43       2  125510.82              1          1   \n",
       "\n",
       "   IsActiveMember  EstimatedSalary  Germany  Spain  Male  \n",
       "0               1        101348.88        0      0     0  \n",
       "1               1        112542.58        0      1     0  \n",
       "2               0        113931.57        0      0     0  \n",
       "3               0         93826.63        0      0     0  \n",
       "4               1         79084.10        0      1     0  "
      ]
     },
     "execution_count": 11,
     "metadata": {},
     "output_type": "execute_result"
    }
   ],
   "source": [
    "X.head()"
   ]
  },
  {
   "cell_type": "code",
   "execution_count": 12,
   "metadata": {
    "id": "YkYOlHPAnDz_"
   },
   "outputs": [],
   "source": [
    "# Splitting the dataset into the Training set and Test set\n",
    "from sklearn.model_selection import train_test_split\n",
    "X_train, X_test, y_train, y_test = train_test_split(X, y, test_size = 0.2, random_state = 0)\n"
   ]
  },
  {
   "cell_type": "code",
   "execution_count": 13,
   "metadata": {
    "id": "cP2vl1p9nGyj"
   },
   "outputs": [],
   "source": [
    "# Feature Scaling\n",
    "from sklearn.preprocessing import StandardScaler\n",
    "sc = StandardScaler()\n",
    "X_train = sc.fit_transform(X_train)\n",
    "X_test = sc.transform(X_test)"
   ]
  },
  {
   "cell_type": "code",
   "execution_count": 14,
   "metadata": {},
   "outputs": [
    {
     "data": {
      "text/plain": [
       "array([[ 0.16958176, -0.46460796,  0.00666099, ..., -0.5698444 ,\n",
       "         1.74309049, -1.09168714],\n",
       "       [-2.30455945,  0.30102557, -1.37744033, ...,  1.75486502,\n",
       "        -0.57369368,  0.91601335],\n",
       "       [-1.19119591, -0.94312892, -1.031415  , ..., -0.5698444 ,\n",
       "        -0.57369368, -1.09168714],\n",
       "       ...,\n",
       "       [ 0.9015152 , -0.36890377,  0.00666099, ..., -0.5698444 ,\n",
       "        -0.57369368,  0.91601335],\n",
       "       [-0.62420521, -0.08179119,  1.39076231, ..., -0.5698444 ,\n",
       "         1.74309049, -1.09168714],\n",
       "       [-0.28401079,  0.87525072, -1.37744033, ...,  1.75486502,\n",
       "        -0.57369368, -1.09168714]])"
      ]
     },
     "execution_count": 14,
     "metadata": {},
     "output_type": "execute_result"
    }
   ],
   "source": [
    "X_train"
   ]
  },
  {
   "cell_type": "code",
   "execution_count": 15,
   "metadata": {},
   "outputs": [
    {
     "name": "stdout",
     "output_type": "stream",
     "text": [
      "2.2.0-rc3\n"
     ]
    }
   ],
   "source": [
    "import tensorflow\n",
    "print(tensorflow.__version__)"
   ]
  },
  {
   "cell_type": "code",
   "execution_count": 16,
   "metadata": {
    "id": "9cazFt9anJYm"
   },
   "outputs": [],
   "source": [
    "# Part 2 - Now let's make the ANN!\n",
    "\n",
    "# Importing the Keras libraries and packages\n",
    "import tensorflow.keras\n",
    "from tensorflow.keras.models import Sequential\n",
    "from tensorflow.keras.layers import Dense\n",
    "from tensorflow.keras.layers import Dropout"
   ]
  },
  {
   "cell_type": "code",
   "execution_count": 17,
   "metadata": {
    "id": "uuQ4aGhjnVfc"
   },
   "outputs": [],
   "source": [
    "# Initialising the ANN\n",
    "classifier = Sequential()\n",
    "\n",
    "# Adding the input layer and the first hidden layer\n",
    "classifier.add(Dense(units = 10,kernel_initializer='he_uniform',activation='relu',input_dim = 11))\n",
    "\n",
    "# Adding the second hidden layer\n",
    "classifier.add(Dense(units = 10, kernel_initializer = 'he_uniform',activation='relu'))\n",
    "# Adding the output layer\n",
    "classifier.add(Dense(units = 1, kernel_initializer = 'glorot_uniform', activation = 'sigmoid'))\n",
    "\n",
    "# Compiling the ANN\n",
    "classifier.compile(optimizer = 'adam', loss = 'binary_crossentropy', metrics = ['accuracy'])"
   ]
  },
  {
   "cell_type": "code",
   "execution_count": 18,
   "metadata": {},
   "outputs": [
    {
     "name": "stdout",
     "output_type": "stream",
     "text": [
      "Model: \"sequential\"\n",
      "_________________________________________________________________\n",
      "Layer (type)                 Output Shape              Param #   \n",
      "=================================================================\n",
      "dense (Dense)                (None, 10)                120       \n",
      "_________________________________________________________________\n",
      "dense_1 (Dense)              (None, 10)                110       \n",
      "_________________________________________________________________\n",
      "dense_2 (Dense)              (None, 1)                 11        \n",
      "=================================================================\n",
      "Total params: 241\n",
      "Trainable params: 241\n",
      "Non-trainable params: 0\n",
      "_________________________________________________________________\n"
     ]
    }
   ],
   "source": [
    "classifier.summary()"
   ]
  },
  {
   "cell_type": "code",
   "execution_count": 19,
   "metadata": {},
   "outputs": [
    {
     "data": {
      "text/plain": [
       "(8000, 11)"
      ]
     },
     "execution_count": 19,
     "metadata": {},
     "output_type": "execute_result"
    }
   ],
   "source": [
    "X_train.shape"
   ]
  },
  {
   "cell_type": "code",
   "execution_count": 20,
   "metadata": {
    "colab": {
     "base_uri": "https://localhost:8080/",
     "height": 1000
    },
    "id": "zQ50oSx9nciT",
    "outputId": "ea283f91-265a-4c68-d55b-c0d687801e59"
   },
   "outputs": [
    {
     "name": "stdout",
     "output_type": "stream",
     "text": [
      "Epoch 1/100\n",
      "54/54 [==============================] - 1s 14ms/step - loss: 0.7247 - accuracy: 0.5635 - val_loss: 0.6167 - val_accuracy: 0.6785\n",
      "Epoch 2/100\n",
      "54/54 [==============================] - 0s 4ms/step - loss: 0.5711 - accuracy: 0.7376 - val_loss: 0.5403 - val_accuracy: 0.7739\n",
      "Epoch 3/100\n",
      "54/54 [==============================] - 0s 5ms/step - loss: 0.5193 - accuracy: 0.7880 - val_loss: 0.5040 - val_accuracy: 0.7917\n",
      "Epoch 4/100\n",
      "54/54 [==============================] - 0s 4ms/step - loss: 0.4866 - accuracy: 0.7957 - val_loss: 0.4807 - val_accuracy: 0.7959\n",
      "Epoch 5/100\n",
      "54/54 [==============================] - 0s 4ms/step - loss: 0.4654 - accuracy: 0.7998 - val_loss: 0.4638 - val_accuracy: 0.7940\n",
      "Epoch 6/100\n",
      "54/54 [==============================] - 0s 4ms/step - loss: 0.4493 - accuracy: 0.8031 - val_loss: 0.4526 - val_accuracy: 0.7967\n",
      "Epoch 7/100\n",
      "54/54 [==============================] - 0s 4ms/step - loss: 0.4381 - accuracy: 0.8078 - val_loss: 0.4446 - val_accuracy: 0.8023\n",
      "Epoch 8/100\n",
      "54/54 [==============================] - ETA: 0s - loss: 0.4366 - accuracy: 0.81 - 0s 4ms/step - loss: 0.4296 - accuracy: 0.8136 - val_loss: 0.4392 - val_accuracy: 0.8005\n",
      "Epoch 9/100\n",
      "54/54 [==============================] - 0s 4ms/step - loss: 0.4250 - accuracy: 0.8168 - val_loss: 0.4352 - val_accuracy: 0.8061\n",
      "Epoch 10/100\n",
      "54/54 [==============================] - 0s 4ms/step - loss: 0.4202 - accuracy: 0.8186 - val_loss: 0.4318 - val_accuracy: 0.8092\n",
      "Epoch 11/100\n",
      "54/54 [==============================] - 0s 4ms/step - loss: 0.4167 - accuracy: 0.8238 - val_loss: 0.4287 - val_accuracy: 0.8126\n",
      "Epoch 12/100\n",
      "54/54 [==============================] - 0s 4ms/step - loss: 0.4128 - accuracy: 0.8259 - val_loss: 0.4263 - val_accuracy: 0.8107\n",
      "Epoch 13/100\n",
      "54/54 [==============================] - 0s 4ms/step - loss: 0.4096 - accuracy: 0.8272 - val_loss: 0.4240 - val_accuracy: 0.8148\n",
      "Epoch 14/100\n",
      "54/54 [==============================] - 0s 4ms/step - loss: 0.4071 - accuracy: 0.8289 - val_loss: 0.4218 - val_accuracy: 0.8126\n",
      "Epoch 15/100\n",
      "54/54 [==============================] - 0s 6ms/step - loss: 0.4037 - accuracy: 0.8302 - val_loss: 0.4196 - val_accuracy: 0.8156\n",
      "Epoch 16/100\n",
      "54/54 [==============================] - 0s 5ms/step - loss: 0.4018 - accuracy: 0.8313 - val_loss: 0.4175 - val_accuracy: 0.8156\n",
      "Epoch 17/100\n",
      "54/54 [==============================] - 0s 4ms/step - loss: 0.3986 - accuracy: 0.8326 - val_loss: 0.4156 - val_accuracy: 0.8183\n",
      "Epoch 18/100\n",
      "54/54 [==============================] - 0s 4ms/step - loss: 0.3952 - accuracy: 0.8324 - val_loss: 0.4135 - val_accuracy: 0.8167\n",
      "Epoch 19/100\n",
      "54/54 [==============================] - 0s 4ms/step - loss: 0.3936 - accuracy: 0.8365 - val_loss: 0.4122 - val_accuracy: 0.8179\n",
      "Epoch 20/100\n",
      "54/54 [==============================] - 0s 4ms/step - loss: 0.3898 - accuracy: 0.8377 - val_loss: 0.4098 - val_accuracy: 0.8232\n",
      "Epoch 21/100\n",
      "54/54 [==============================] - 0s 4ms/step - loss: 0.3882 - accuracy: 0.8412 - val_loss: 0.4080 - val_accuracy: 0.8236\n",
      "Epoch 22/100\n",
      "54/54 [==============================] - 0s 4ms/step - loss: 0.3855 - accuracy: 0.8414 - val_loss: 0.4059 - val_accuracy: 0.8224\n",
      "Epoch 23/100\n",
      "54/54 [==============================] - 0s 6ms/step - loss: 0.3830 - accuracy: 0.8418 - val_loss: 0.4040 - val_accuracy: 0.8232\n",
      "Epoch 24/100\n",
      "54/54 [==============================] - 0s 5ms/step - loss: 0.3817 - accuracy: 0.8440 - val_loss: 0.4024 - val_accuracy: 0.8224\n",
      "Epoch 25/100\n",
      "54/54 [==============================] - 0s 5ms/step - loss: 0.3783 - accuracy: 0.8475 - val_loss: 0.4000 - val_accuracy: 0.8251\n",
      "Epoch 26/100\n",
      "54/54 [==============================] - 0s 8ms/step - loss: 0.3750 - accuracy: 0.8485 - val_loss: 0.3985 - val_accuracy: 0.8258\n",
      "Epoch 27/100\n",
      "54/54 [==============================] - 0s 6ms/step - loss: 0.3726 - accuracy: 0.8505 - val_loss: 0.3967 - val_accuracy: 0.8262\n",
      "Epoch 28/100\n",
      "54/54 [==============================] - 0s 5ms/step - loss: 0.3704 - accuracy: 0.8503 - val_loss: 0.3953 - val_accuracy: 0.8262\n",
      "Epoch 29/100\n",
      "54/54 [==============================] - 0s 5ms/step - loss: 0.3680 - accuracy: 0.8518 - val_loss: 0.3937 - val_accuracy: 0.8251\n",
      "Epoch 30/100\n",
      "54/54 [==============================] - 0s 4ms/step - loss: 0.3652 - accuracy: 0.8522 - val_loss: 0.3919 - val_accuracy: 0.8292\n",
      "Epoch 31/100\n",
      "54/54 [==============================] - 0s 5ms/step - loss: 0.3631 - accuracy: 0.8522 - val_loss: 0.3900 - val_accuracy: 0.8292\n",
      "Epoch 32/100\n",
      "54/54 [==============================] - 0s 4ms/step - loss: 0.3623 - accuracy: 0.8524 - val_loss: 0.3883 - val_accuracy: 0.8319\n",
      "Epoch 33/100\n",
      "54/54 [==============================] - 0s 4ms/step - loss: 0.3603 - accuracy: 0.8533 - val_loss: 0.3868 - val_accuracy: 0.8326\n",
      "Epoch 34/100\n",
      "54/54 [==============================] - 0s 4ms/step - loss: 0.3567 - accuracy: 0.8550 - val_loss: 0.3855 - val_accuracy: 0.8338\n",
      "Epoch 35/100\n",
      "54/54 [==============================] - 0s 4ms/step - loss: 0.3554 - accuracy: 0.8537 - val_loss: 0.3840 - val_accuracy: 0.8349\n",
      "Epoch 36/100\n",
      "54/54 [==============================] - 0s 5ms/step - loss: 0.3544 - accuracy: 0.8545 - val_loss: 0.3831 - val_accuracy: 0.8353\n",
      "Epoch 37/100\n",
      "54/54 [==============================] - 0s 4ms/step - loss: 0.3517 - accuracy: 0.8565 - val_loss: 0.3818 - val_accuracy: 0.8376\n",
      "Epoch 38/100\n",
      "54/54 [==============================] - 0s 6ms/step - loss: 0.3502 - accuracy: 0.8561 - val_loss: 0.3806 - val_accuracy: 0.8379\n",
      "Epoch 39/100\n",
      "54/54 [==============================] - 0s 6ms/step - loss: 0.3501 - accuracy: 0.8561 - val_loss: 0.3799 - val_accuracy: 0.8383\n",
      "Epoch 40/100\n",
      "54/54 [==============================] - 0s 5ms/step - loss: 0.3470 - accuracy: 0.8571 - val_loss: 0.3790 - val_accuracy: 0.8391\n",
      "Epoch 41/100\n",
      "54/54 [==============================] - 0s 5ms/step - loss: 0.3465 - accuracy: 0.8571 - val_loss: 0.3793 - val_accuracy: 0.8368\n",
      "Epoch 42/100\n",
      "54/54 [==============================] - 0s 5ms/step - loss: 0.3456 - accuracy: 0.8574 - val_loss: 0.3782 - val_accuracy: 0.8402\n",
      "Epoch 43/100\n",
      "54/54 [==============================] - 0s 4ms/step - loss: 0.3453 - accuracy: 0.8591 - val_loss: 0.3773 - val_accuracy: 0.8395\n",
      "Epoch 44/100\n",
      "54/54 [==============================] - 0s 5ms/step - loss: 0.3445 - accuracy: 0.8578 - val_loss: 0.3768 - val_accuracy: 0.8398\n",
      "Epoch 45/100\n",
      "54/54 [==============================] - 0s 4ms/step - loss: 0.3427 - accuracy: 0.8593 - val_loss: 0.3769 - val_accuracy: 0.8395\n",
      "Epoch 46/100\n",
      "54/54 [==============================] - 0s 5ms/step - loss: 0.3414 - accuracy: 0.8586 - val_loss: 0.3759 - val_accuracy: 0.8425\n",
      "Epoch 47/100\n",
      "54/54 [==============================] - 0s 4ms/step - loss: 0.3403 - accuracy: 0.8591 - val_loss: 0.3758 - val_accuracy: 0.8410\n",
      "Epoch 48/100\n",
      "54/54 [==============================] - 0s 5ms/step - loss: 0.3402 - accuracy: 0.8591 - val_loss: 0.3757 - val_accuracy: 0.8410\n",
      "Epoch 49/100\n",
      "54/54 [==============================] - 0s 4ms/step - loss: 0.3395 - accuracy: 0.8602 - val_loss: 0.3752 - val_accuracy: 0.8429\n",
      "Epoch 50/100\n",
      "54/54 [==============================] - 0s 4ms/step - loss: 0.3389 - accuracy: 0.8593 - val_loss: 0.3748 - val_accuracy: 0.8440\n",
      "Epoch 51/100\n",
      "54/54 [==============================] - 0s 5ms/step - loss: 0.3385 - accuracy: 0.8589 - val_loss: 0.3745 - val_accuracy: 0.8440\n",
      "Epoch 52/100\n",
      "54/54 [==============================] - 0s 4ms/step - loss: 0.3377 - accuracy: 0.8597 - val_loss: 0.3739 - val_accuracy: 0.8448\n",
      "Epoch 53/100\n",
      "54/54 [==============================] - 0s 5ms/step - loss: 0.3364 - accuracy: 0.8591 - val_loss: 0.3738 - val_accuracy: 0.8432\n",
      "Epoch 54/100\n",
      "54/54 [==============================] - 0s 5ms/step - loss: 0.3362 - accuracy: 0.8593 - val_loss: 0.3731 - val_accuracy: 0.8455\n",
      "Epoch 55/100\n",
      "54/54 [==============================] - 0s 4ms/step - loss: 0.3359 - accuracy: 0.8584 - val_loss: 0.3733 - val_accuracy: 0.8451\n",
      "Epoch 56/100\n",
      "54/54 [==============================] - 0s 4ms/step - loss: 0.3356 - accuracy: 0.8597 - val_loss: 0.3730 - val_accuracy: 0.8459\n",
      "Epoch 57/100\n",
      "54/54 [==============================] - 0s 4ms/step - loss: 0.3347 - accuracy: 0.8586 - val_loss: 0.3728 - val_accuracy: 0.8466\n",
      "Epoch 58/100\n"
     ]
    },
    {
     "name": "stdout",
     "output_type": "stream",
     "text": [
      "54/54 [==============================] - 0s 4ms/step - loss: 0.3353 - accuracy: 0.8584 - val_loss: 0.3729 - val_accuracy: 0.8474\n",
      "Epoch 59/100\n",
      "54/54 [==============================] - 0s 4ms/step - loss: 0.3347 - accuracy: 0.8597 - val_loss: 0.3722 - val_accuracy: 0.8463\n",
      "Epoch 60/100\n",
      "54/54 [==============================] - 0s 4ms/step - loss: 0.3351 - accuracy: 0.8604 - val_loss: 0.3719 - val_accuracy: 0.8470\n",
      "Epoch 61/100\n",
      "54/54 [==============================] - 0s 4ms/step - loss: 0.3342 - accuracy: 0.8602 - val_loss: 0.3720 - val_accuracy: 0.8440\n",
      "Epoch 62/100\n",
      "54/54 [==============================] - 0s 4ms/step - loss: 0.3341 - accuracy: 0.8595 - val_loss: 0.3719 - val_accuracy: 0.8451\n",
      "Epoch 63/100\n",
      "54/54 [==============================] - 0s 4ms/step - loss: 0.3331 - accuracy: 0.8595 - val_loss: 0.3720 - val_accuracy: 0.8451\n",
      "Epoch 64/100\n",
      "54/54 [==============================] - 0s 4ms/step - loss: 0.3339 - accuracy: 0.8591 - val_loss: 0.3718 - val_accuracy: 0.8432\n",
      "Epoch 65/100\n",
      "54/54 [==============================] - 0s 4ms/step - loss: 0.3333 - accuracy: 0.8600 - val_loss: 0.3720 - val_accuracy: 0.8489\n",
      "Epoch 66/100\n",
      "54/54 [==============================] - 0s 4ms/step - loss: 0.3324 - accuracy: 0.8606 - val_loss: 0.3720 - val_accuracy: 0.8459\n",
      "Epoch 67/100\n",
      "54/54 [==============================] - 0s 4ms/step - loss: 0.3341 - accuracy: 0.8602 - val_loss: 0.3720 - val_accuracy: 0.8478\n",
      "Epoch 68/100\n",
      "54/54 [==============================] - 0s 4ms/step - loss: 0.3331 - accuracy: 0.8600 - val_loss: 0.3718 - val_accuracy: 0.8478\n",
      "Epoch 69/100\n",
      "54/54 [==============================] - 0s 4ms/step - loss: 0.3326 - accuracy: 0.8600 - val_loss: 0.3717 - val_accuracy: 0.8482\n",
      "Epoch 70/100\n",
      "54/54 [==============================] - 0s 4ms/step - loss: 0.3325 - accuracy: 0.8604 - val_loss: 0.3715 - val_accuracy: 0.8463\n",
      "Epoch 71/100\n",
      "54/54 [==============================] - 0s 4ms/step - loss: 0.3309 - accuracy: 0.8600 - val_loss: 0.3711 - val_accuracy: 0.8474\n",
      "Epoch 72/100\n",
      "54/54 [==============================] - 0s 4ms/step - loss: 0.3317 - accuracy: 0.8617 - val_loss: 0.3717 - val_accuracy: 0.8455\n",
      "Epoch 73/100\n",
      "54/54 [==============================] - 0s 4ms/step - loss: 0.3318 - accuracy: 0.8610 - val_loss: 0.3714 - val_accuracy: 0.8448\n",
      "Epoch 74/100\n",
      "54/54 [==============================] - 0s 4ms/step - loss: 0.3308 - accuracy: 0.8608 - val_loss: 0.3711 - val_accuracy: 0.8444\n",
      "Epoch 75/100\n",
      "54/54 [==============================] - 0s 4ms/step - loss: 0.3308 - accuracy: 0.8608 - val_loss: 0.3711 - val_accuracy: 0.8444\n",
      "Epoch 76/100\n",
      "54/54 [==============================] - 0s 4ms/step - loss: 0.3317 - accuracy: 0.8615 - val_loss: 0.3725 - val_accuracy: 0.8421\n",
      "Epoch 77/100\n",
      "54/54 [==============================] - 0s 4ms/step - loss: 0.3308 - accuracy: 0.8623 - val_loss: 0.3712 - val_accuracy: 0.8455\n",
      "Epoch 78/100\n",
      "54/54 [==============================] - 0s 4ms/step - loss: 0.3311 - accuracy: 0.8619 - val_loss: 0.3717 - val_accuracy: 0.8455\n",
      "Epoch 79/100\n",
      "54/54 [==============================] - 0s 4ms/step - loss: 0.3316 - accuracy: 0.8608 - val_loss: 0.3713 - val_accuracy: 0.8436\n",
      "Epoch 80/100\n",
      "54/54 [==============================] - 0s 4ms/step - loss: 0.3306 - accuracy: 0.8617 - val_loss: 0.3706 - val_accuracy: 0.8470\n",
      "Epoch 81/100\n",
      "54/54 [==============================] - 0s 4ms/step - loss: 0.3294 - accuracy: 0.8628 - val_loss: 0.3712 - val_accuracy: 0.8459\n",
      "Epoch 82/100\n",
      "54/54 [==============================] - 0s 4ms/step - loss: 0.3304 - accuracy: 0.8612 - val_loss: 0.3712 - val_accuracy: 0.8470\n",
      "Epoch 83/100\n",
      "54/54 [==============================] - 0s 4ms/step - loss: 0.3306 - accuracy: 0.8619 - val_loss: 0.3711 - val_accuracy: 0.8463\n",
      "Epoch 84/100\n",
      "54/54 [==============================] - 0s 4ms/step - loss: 0.3287 - accuracy: 0.8615 - val_loss: 0.3708 - val_accuracy: 0.8478\n",
      "Epoch 85/100\n",
      "54/54 [==============================] - 0s 4ms/step - loss: 0.3296 - accuracy: 0.8623 - val_loss: 0.3711 - val_accuracy: 0.8459\n",
      "Epoch 86/100\n",
      "54/54 [==============================] - 0s 4ms/step - loss: 0.3302 - accuracy: 0.8623 - val_loss: 0.3708 - val_accuracy: 0.8463\n",
      "Epoch 87/100\n",
      "54/54 [==============================] - 0s 4ms/step - loss: 0.3292 - accuracy: 0.8623 - val_loss: 0.3709 - val_accuracy: 0.8478\n",
      "Epoch 88/100\n",
      "54/54 [==============================] - 0s 5ms/step - loss: 0.3297 - accuracy: 0.8617 - val_loss: 0.3712 - val_accuracy: 0.8463\n",
      "Epoch 89/100\n",
      "54/54 [==============================] - 0s 5ms/step - loss: 0.3300 - accuracy: 0.8621 - val_loss: 0.3704 - val_accuracy: 0.8466\n",
      "Epoch 90/100\n",
      "54/54 [==============================] - 0s 5ms/step - loss: 0.3292 - accuracy: 0.8621 - val_loss: 0.3707 - val_accuracy: 0.8463\n",
      "Epoch 91/100\n",
      "54/54 [==============================] - 0s 5ms/step - loss: 0.3285 - accuracy: 0.8617 - val_loss: 0.3707 - val_accuracy: 0.8474\n",
      "Epoch 92/100\n",
      "54/54 [==============================] - 0s 5ms/step - loss: 0.3291 - accuracy: 0.8630 - val_loss: 0.3711 - val_accuracy: 0.8448\n",
      "Epoch 93/100\n",
      "54/54 [==============================] - 0s 5ms/step - loss: 0.3293 - accuracy: 0.8632 - val_loss: 0.3706 - val_accuracy: 0.8485\n",
      "Epoch 94/100\n",
      "54/54 [==============================] - 0s 5ms/step - loss: 0.3288 - accuracy: 0.8619 - val_loss: 0.3707 - val_accuracy: 0.8485\n",
      "Epoch 95/100\n",
      "54/54 [==============================] - 0s 4ms/step - loss: 0.3276 - accuracy: 0.8628 - val_loss: 0.3708 - val_accuracy: 0.8478\n",
      "Epoch 96/100\n",
      "54/54 [==============================] - 0s 5ms/step - loss: 0.3282 - accuracy: 0.8621 - val_loss: 0.3706 - val_accuracy: 0.8485\n",
      "Epoch 97/100\n",
      "54/54 [==============================] - 0s 4ms/step - loss: 0.3281 - accuracy: 0.8630 - val_loss: 0.3709 - val_accuracy: 0.8466\n",
      "Epoch 98/100\n",
      "54/54 [==============================] - 0s 4ms/step - loss: 0.3285 - accuracy: 0.8623 - val_loss: 0.3711 - val_accuracy: 0.8448\n",
      "Epoch 99/100\n",
      "54/54 [==============================] - 0s 4ms/step - loss: 0.3279 - accuracy: 0.8623 - val_loss: 0.3709 - val_accuracy: 0.8474\n",
      "Epoch 100/100\n",
      "54/54 [==============================] - 0s 4ms/step - loss: 0.3285 - accuracy: 0.8632 - val_loss: 0.3709 - val_accuracy: 0.8482\n"
     ]
    }
   ],
   "source": [
    "# Fitting the ANN to the Training set\n",
    "model_history=classifier.fit(X_train, y_train,validation_split=0.33, batch_size = 100,epochs = 100)"
   ]
  },
  {
   "cell_type": "code",
   "execution_count": 21,
   "metadata": {},
   "outputs": [
    {
     "data": {
      "text/plain": [
       "dict_keys(['loss', 'accuracy', 'val_loss', 'val_accuracy'])"
      ]
     },
     "execution_count": 21,
     "metadata": {},
     "output_type": "execute_result"
    }
   ],
   "source": [
    "model_history.history.keys()"
   ]
  },
  {
   "cell_type": "code",
   "execution_count": 22,
   "metadata": {
    "colab": {
     "base_uri": "https://localhost:8080/",
     "height": 312
    },
    "id": "9YYQKNLFoGqY",
    "outputId": "f170571c-a7cf-4383-af87-7819a4bb025c"
   },
   "outputs": [
    {
     "name": "stdout",
     "output_type": "stream",
     "text": [
      "dict_keys(['loss', 'accuracy', 'val_loss', 'val_accuracy'])\n"
     ]
    },
    {
     "data": {
      "image/png": "[encoded data removed]",
      "text/plain": [
       "<Figure size 432x288 with 1 Axes>"
      ]
     },
     "metadata": {
      "needs_background": "light"
     },
     "output_type": "display_data"
    }
   ],
   "source": [
    "# list all data in history\n",
    "\n",
    "print(model_history.history.keys())\n",
    "# summarize history for accuracy\n",
    "plt.plot(model_history.history['accuracy'])\n",
    "plt.plot(model_history.history['val_accuracy'])\n",
    "plt.title('model accuracy')\n",
    "plt.ylabel('accuracy')\n",
    "plt.xlabel('epoch')\n",
    "plt.legend(['train', 'test'], loc='upper left')\n",
    "plt.show()"
   ]
  },
  {
   "cell_type": "code",
   "execution_count": 23,
   "metadata": {
    "colab": {
     "base_uri": "https://localhost:8080/",
     "height": 295
    },
    "id": "SxqMInP_ogni",
    "outputId": "835a8964-4895-4e22-958d-22f94f7ba258"
   },
   "outputs": [
    {
     "data": {
      "image/png": "[encoded data removed]",
      "text/plain": [
       "<Figure size 432x288 with 1 Axes>"
      ]
     },
     "metadata": {
      "needs_background": "light"
     },
     "output_type": "display_data"
    }
   ],
   "source": [
    "# summarize history for loss\n",
    "plt.plot(model_history.history['loss'])\n",
    "plt.plot(model_history.history['val_loss'])\n",
    "plt.title('model loss')\n",
    "plt.ylabel('loss')\n",
    "plt.xlabel('epoch')\n",
    "plt.legend(['train', 'test'], loc='upper left')\n",
    "plt.show()"
   ]
  },
  {
   "cell_type": "code",
   "execution_count": 24,
   "metadata": {
    "id": "y2_wiHsdor3R"
   },
   "outputs": [],
   "source": [
    "# Part 3 - Making the predictions and evaluating the model\n",
    "\n",
    "# Predicting the Test set results\n",
    "y_pred = classifier.predict(X_test)\n",
    "y_pred = (y_pred > 0.5)"
   ]
  },
  {
   "cell_type": "code",
   "execution_count": 25,
   "metadata": {},
   "outputs": [
    {
     "data": {
      "text/plain": [
       "array([[False],\n",
       "       [False],\n",
       "       [False],\n",
       "       ...,\n",
       "       [False],\n",
       "       [False],\n",
       "       [False]])"
      ]
     },
     "execution_count": 25,
     "metadata": {},
     "output_type": "execute_result"
    }
   ],
   "source": [
    "y_pred"
   ]
  },
  {
   "cell_type": "code",
   "execution_count": 26,
   "metadata": {
    "id": "6aOhNA4iovzu"
   },
   "outputs": [],
   "source": [
    "# Making the Confusion Matrix\n",
    "from sklearn.metrics import confusion_matrix\n",
    "cm = confusion_matrix(y_test, y_pred)"
   ]
  },
  {
   "cell_type": "code",
   "execution_count": 27,
   "metadata": {
    "colab": {
     "base_uri": "https://localhost:8080/",
     "height": 51
    },
    "id": "my6JGfzioxy2",
    "outputId": "cb6636fb-91ab-43a9-e628-b5fc35e56d31"
   },
   "outputs": [
    {
     "data": {
      "text/plain": [
       "array([[1502,   93],\n",
       "       [ 191,  214]], dtype=int64)"
      ]
     },
     "execution_count": 27,
     "metadata": {},
     "output_type": "execute_result"
    }
   ],
   "source": [
    "cm"
   ]
  },
  {
   "cell_type": "code",
   "execution_count": 28,
   "metadata": {
    "id": "G4FVoJl7oyr_"
   },
   "outputs": [],
   "source": [
    "# Calculate the Accuracy\n",
    "from sklearn.metrics import accuracy_score\n",
    "score=accuracy_score(y_pred,y_test)"
   ]
  },
  {
   "cell_type": "code",
   "execution_count": 29,
   "metadata": {
    "colab": {
     "base_uri": "https://localhost:8080/",
     "height": 34
    },
    "id": "Y4Nlv_pjo1GQ",
    "outputId": "74725c7a-4272-4081-ea3a-a94d3ccca9a0"
   },
   "outputs": [
    {
     "data": {
      "text/plain": [
       "0.858"
      ]
     },
     "execution_count": 29,
     "metadata": {},
     "output_type": "execute_result"
    }
   ],
   "source": [
    "score"
   ]
  },
  {
   "cell_type": "code",
   "execution_count": null,
   "metadata": {
    "id": "791inrxho2zL"
   },
   "outputs": [],
   "source": []
  }
 ],
 "metadata": {
  "accelerator": "GPU",
  "colab": {
   "name": "GIMANN.ipynb",
   "provenance": []
  },
  "kernelspec": {
   "display_name": "Python 3",
   "language": "python",
   "name": "python3"
  },
  "language_info": {
   "codemirror_mode": {
    "name": "ipython",
    "version": 3
   },
   "file_extension": ".py",
   "mimetype": "text/x-python",
   "name": "python",
   "nbconvert_exporter": "python",
   "pygments_lexer": "ipython3",
   "version": "3.8.2"
  }
 },
 "nbformat": 4,
 "nbformat_minor": 1
}
